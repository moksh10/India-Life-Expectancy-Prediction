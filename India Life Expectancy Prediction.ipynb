{
 "cells": [
  {
   "cell_type": "markdown",
   "metadata": {},
   "source": [
    "# INDIA LIFE EXPECTANCY PREDICTION"
   ]
  },
  {
   "cell_type": "code",
   "execution_count": 1,
   "metadata": {},
   "outputs": [],
   "source": [
    "#IMPORTING REQUIRED LIBRARIES\n",
    "import numpy as np\n",
    "import pandas as pd\n",
    "import matplotlib.pyplot as plt\n",
    "import seaborn as sns\n",
    "import warnings\n",
    "%matplotlib inline\n",
    "warnings.filterwarnings('ignore')"
   ]
  },
  {
   "cell_type": "markdown",
   "metadata": {},
   "source": [
    "### TASK 1: INSEPCTING AND CLEANING THE DATABASE"
   ]
  },
  {
   "cell_type": "markdown",
   "metadata": {},
   "source": [
    "#### SUBTASK 1.1: READ THE DATAFRAME"
   ]
  },
  {
   "cell_type": "markdown",
   "metadata": {},
   "source": [
    "Read the historical dataframe of India's Life Expectancy(in years) and store it in variable ile."
   ]
  },
  {
   "cell_type": "code",
   "execution_count": 2,
   "metadata": {},
   "outputs": [],
   "source": [
    "ile=pd.read_csv(\"India_Life_Expectancy_Data.csv\")"
   ]
  },
  {
   "cell_type": "markdown",
   "metadata": {},
   "source": [
    "Let's see the dataframe."
   ]
  },
  {
   "cell_type": "code",
   "execution_count": 3,
   "metadata": {},
   "outputs": [
    {
     "data": {
      "text/html": [
       "<div>\n",
       "<style scoped>\n",
       "    .dataframe tbody tr th:only-of-type {\n",
       "        vertical-align: middle;\n",
       "    }\n",
       "\n",
       "    .dataframe tbody tr th {\n",
       "        vertical-align: top;\n",
       "    }\n",
       "\n",
       "    .dataframe thead th {\n",
       "        text-align: right;\n",
       "    }\n",
       "</style>\n",
       "<table border=\"1\" class=\"dataframe\">\n",
       "  <thead>\n",
       "    <tr style=\"text-align: right;\">\n",
       "      <th></th>\n",
       "      <th>date</th>\n",
       "      <th>Life Expectancy from Birth (Years)</th>\n",
       "    </tr>\n",
       "  </thead>\n",
       "  <tbody>\n",
       "    <tr>\n",
       "      <th>0</th>\n",
       "      <td>31-12-1950</td>\n",
       "      <td>35.21</td>\n",
       "    </tr>\n",
       "    <tr>\n",
       "      <th>1</th>\n",
       "      <td>31-12-1951</td>\n",
       "      <td>35.80</td>\n",
       "    </tr>\n",
       "    <tr>\n",
       "      <th>2</th>\n",
       "      <td>31-12-1952</td>\n",
       "      <td>36.39</td>\n",
       "    </tr>\n",
       "    <tr>\n",
       "      <th>3</th>\n",
       "      <td>31-12-1953</td>\n",
       "      <td>36.98</td>\n",
       "    </tr>\n",
       "    <tr>\n",
       "      <th>4</th>\n",
       "      <td>31-12-1954</td>\n",
       "      <td>37.57</td>\n",
       "    </tr>\n",
       "    <tr>\n",
       "      <th>...</th>\n",
       "      <td>...</td>\n",
       "      <td>...</td>\n",
       "    </tr>\n",
       "    <tr>\n",
       "      <th>146</th>\n",
       "      <td>NaN</td>\n",
       "      <td>NaN</td>\n",
       "    </tr>\n",
       "    <tr>\n",
       "      <th>147</th>\n",
       "      <td>NaN</td>\n",
       "      <td>NaN</td>\n",
       "    </tr>\n",
       "    <tr>\n",
       "      <th>148</th>\n",
       "      <td>NaN</td>\n",
       "      <td>NaN</td>\n",
       "    </tr>\n",
       "    <tr>\n",
       "      <th>149</th>\n",
       "      <td>NaN</td>\n",
       "      <td>NaN</td>\n",
       "    </tr>\n",
       "    <tr>\n",
       "      <th>150</th>\n",
       "      <td>NaN</td>\n",
       "      <td>NaN</td>\n",
       "    </tr>\n",
       "  </tbody>\n",
       "</table>\n",
       "<p>151 rows × 2 columns</p>\n",
       "</div>"
      ],
      "text/plain": [
       "           date   Life Expectancy from Birth (Years)\n",
       "0    31-12-1950                                35.21\n",
       "1    31-12-1951                                35.80\n",
       "2    31-12-1952                                36.39\n",
       "3    31-12-1953                                36.98\n",
       "4    31-12-1954                                37.57\n",
       "..          ...                                  ...\n",
       "146         NaN                                  NaN\n",
       "147         NaN                                  NaN\n",
       "148         NaN                                  NaN\n",
       "149         NaN                                  NaN\n",
       "150         NaN                                  NaN\n",
       "\n",
       "[151 rows x 2 columns]"
      ]
     },
     "execution_count": 3,
     "metadata": {},
     "output_type": "execute_result"
    }
   ],
   "source": [
    "ile"
   ]
  },
  {
   "cell_type": "markdown",
   "metadata": {},
   "source": [
    "#### SUBTASK 1.2: CLEANING THE DATA"
   ]
  },
  {
   "cell_type": "markdown",
   "metadata": {},
   "source": [
    "Let's find number of null values."
   ]
  },
  {
   "cell_type": "code",
   "execution_count": 4,
   "metadata": {},
   "outputs": [
    {
     "data": {
      "text/plain": [
       "date                                   83\n",
       " Life Expectancy from Birth (Years)    83\n",
       "dtype: int64"
      ]
     },
     "execution_count": 4,
     "metadata": {},
     "output_type": "execute_result"
    }
   ],
   "source": [
    "ile.isnull().sum()"
   ]
  },
  {
   "cell_type": "markdown",
   "metadata": {},
   "source": [
    "Drop the rows having null values."
   ]
  },
  {
   "cell_type": "code",
   "execution_count": 5,
   "metadata": {},
   "outputs": [
    {
     "data": {
      "text/html": [
       "<div>\n",
       "<style scoped>\n",
       "    .dataframe tbody tr th:only-of-type {\n",
       "        vertical-align: middle;\n",
       "    }\n",
       "\n",
       "    .dataframe tbody tr th {\n",
       "        vertical-align: top;\n",
       "    }\n",
       "\n",
       "    .dataframe thead th {\n",
       "        text-align: right;\n",
       "    }\n",
       "</style>\n",
       "<table border=\"1\" class=\"dataframe\">\n",
       "  <thead>\n",
       "    <tr style=\"text-align: right;\">\n",
       "      <th></th>\n",
       "      <th>date</th>\n",
       "      <th>Life Expectancy from Birth (Years)</th>\n",
       "    </tr>\n",
       "  </thead>\n",
       "  <tbody>\n",
       "    <tr>\n",
       "      <th>0</th>\n",
       "      <td>31-12-1950</td>\n",
       "      <td>35.21</td>\n",
       "    </tr>\n",
       "    <tr>\n",
       "      <th>1</th>\n",
       "      <td>31-12-1951</td>\n",
       "      <td>35.80</td>\n",
       "    </tr>\n",
       "    <tr>\n",
       "      <th>2</th>\n",
       "      <td>31-12-1952</td>\n",
       "      <td>36.39</td>\n",
       "    </tr>\n",
       "    <tr>\n",
       "      <th>3</th>\n",
       "      <td>31-12-1953</td>\n",
       "      <td>36.98</td>\n",
       "    </tr>\n",
       "    <tr>\n",
       "      <th>4</th>\n",
       "      <td>31-12-1954</td>\n",
       "      <td>37.57</td>\n",
       "    </tr>\n",
       "    <tr>\n",
       "      <th>...</th>\n",
       "      <td>...</td>\n",
       "      <td>...</td>\n",
       "    </tr>\n",
       "    <tr>\n",
       "      <th>63</th>\n",
       "      <td>31-12-2013</td>\n",
       "      <td>67.77</td>\n",
       "    </tr>\n",
       "    <tr>\n",
       "      <th>64</th>\n",
       "      <td>31-12-2014</td>\n",
       "      <td>68.07</td>\n",
       "    </tr>\n",
       "    <tr>\n",
       "      <th>65</th>\n",
       "      <td>31-12-2015</td>\n",
       "      <td>68.37</td>\n",
       "    </tr>\n",
       "    <tr>\n",
       "      <th>66</th>\n",
       "      <td>31-12-2016</td>\n",
       "      <td>68.67</td>\n",
       "    </tr>\n",
       "    <tr>\n",
       "      <th>67</th>\n",
       "      <td>31-12-2017</td>\n",
       "      <td>68.97</td>\n",
       "    </tr>\n",
       "  </tbody>\n",
       "</table>\n",
       "<p>68 rows × 2 columns</p>\n",
       "</div>"
      ],
      "text/plain": [
       "          date   Life Expectancy from Birth (Years)\n",
       "0   31-12-1950                                35.21\n",
       "1   31-12-1951                                35.80\n",
       "2   31-12-1952                                36.39\n",
       "3   31-12-1953                                36.98\n",
       "4   31-12-1954                                37.57\n",
       "..         ...                                  ...\n",
       "63  31-12-2013                                67.77\n",
       "64  31-12-2014                                68.07\n",
       "65  31-12-2015                                68.37\n",
       "66  31-12-2016                                68.67\n",
       "67  31-12-2017                                68.97\n",
       "\n",
       "[68 rows x 2 columns]"
      ]
     },
     "execution_count": 5,
     "metadata": {},
     "output_type": "execute_result"
    }
   ],
   "source": [
    "ile.dropna(axis=0,inplace=True)\n",
    "ile"
   ]
  },
  {
   "cell_type": "markdown",
   "metadata": {},
   "source": [
    "#### SUBTASK 1.3: INSPECT THE DATA"
   ]
  },
  {
   "cell_type": "markdown",
   "metadata": {},
   "source": [
    "Information about dataframe"
   ]
  },
  {
   "cell_type": "code",
   "execution_count": 6,
   "metadata": {},
   "outputs": [
    {
     "name": "stdout",
     "output_type": "stream",
     "text": [
      "<class 'pandas.core.frame.DataFrame'>\n",
      "Int64Index: 68 entries, 0 to 67\n",
      "Data columns (total 2 columns):\n",
      " #   Column                               Non-Null Count  Dtype  \n",
      "---  ------                               --------------  -----  \n",
      " 0   date                                 68 non-null     object \n",
      " 1    Life Expectancy from Birth (Years)  68 non-null     float64\n",
      "dtypes: float64(1), object(1)\n",
      "memory usage: 1.6+ KB\n"
     ]
    }
   ],
   "source": [
    "ile.info()"
   ]
  },
  {
   "cell_type": "code",
   "execution_count": 7,
   "metadata": {},
   "outputs": [
    {
     "data": {
      "text/plain": [
       "(68, 2)"
      ]
     },
     "execution_count": 7,
     "metadata": {},
     "output_type": "execute_result"
    }
   ],
   "source": [
    "ile.shape"
   ]
  },
  {
   "cell_type": "code",
   "execution_count": 8,
   "metadata": {},
   "outputs": [
    {
     "data": {
      "text/plain": [
       "Index(['date', ' Life Expectancy from Birth (Years)'], dtype='object')"
      ]
     },
     "execution_count": 8,
     "metadata": {},
     "output_type": "execute_result"
    }
   ],
   "source": [
    "ile.columns"
   ]
  },
  {
   "cell_type": "markdown",
   "metadata": {},
   "source": [
    "Convert the 'date' column to 'Year' column."
   ]
  },
  {
   "cell_type": "code",
   "execution_count": 9,
   "metadata": {},
   "outputs": [
    {
     "data": {
      "text/html": [
       "<div>\n",
       "<style scoped>\n",
       "    .dataframe tbody tr th:only-of-type {\n",
       "        vertical-align: middle;\n",
       "    }\n",
       "\n",
       "    .dataframe tbody tr th {\n",
       "        vertical-align: top;\n",
       "    }\n",
       "\n",
       "    .dataframe thead th {\n",
       "        text-align: right;\n",
       "    }\n",
       "</style>\n",
       "<table border=\"1\" class=\"dataframe\">\n",
       "  <thead>\n",
       "    <tr style=\"text-align: right;\">\n",
       "      <th></th>\n",
       "      <th>Years</th>\n",
       "      <th>Life Expectancy from Birth (Years)</th>\n",
       "    </tr>\n",
       "  </thead>\n",
       "  <tbody>\n",
       "    <tr>\n",
       "      <th>0</th>\n",
       "      <td>1950</td>\n",
       "      <td>35.21</td>\n",
       "    </tr>\n",
       "    <tr>\n",
       "      <th>1</th>\n",
       "      <td>1951</td>\n",
       "      <td>35.80</td>\n",
       "    </tr>\n",
       "    <tr>\n",
       "      <th>2</th>\n",
       "      <td>1952</td>\n",
       "      <td>36.39</td>\n",
       "    </tr>\n",
       "    <tr>\n",
       "      <th>3</th>\n",
       "      <td>1953</td>\n",
       "      <td>36.98</td>\n",
       "    </tr>\n",
       "    <tr>\n",
       "      <th>4</th>\n",
       "      <td>1954</td>\n",
       "      <td>37.57</td>\n",
       "    </tr>\n",
       "    <tr>\n",
       "      <th>...</th>\n",
       "      <td>...</td>\n",
       "      <td>...</td>\n",
       "    </tr>\n",
       "    <tr>\n",
       "      <th>63</th>\n",
       "      <td>2013</td>\n",
       "      <td>67.77</td>\n",
       "    </tr>\n",
       "    <tr>\n",
       "      <th>64</th>\n",
       "      <td>2014</td>\n",
       "      <td>68.07</td>\n",
       "    </tr>\n",
       "    <tr>\n",
       "      <th>65</th>\n",
       "      <td>2015</td>\n",
       "      <td>68.37</td>\n",
       "    </tr>\n",
       "    <tr>\n",
       "      <th>66</th>\n",
       "      <td>2016</td>\n",
       "      <td>68.67</td>\n",
       "    </tr>\n",
       "    <tr>\n",
       "      <th>67</th>\n",
       "      <td>2017</td>\n",
       "      <td>68.97</td>\n",
       "    </tr>\n",
       "  </tbody>\n",
       "</table>\n",
       "<p>68 rows × 2 columns</p>\n",
       "</div>"
      ],
      "text/plain": [
       "    Years  Life Expectancy from Birth (Years)\n",
       "0    1950                               35.21\n",
       "1    1951                               35.80\n",
       "2    1952                               36.39\n",
       "3    1953                               36.98\n",
       "4    1954                               37.57\n",
       "..    ...                                 ...\n",
       "63   2013                               67.77\n",
       "64   2014                               68.07\n",
       "65   2015                               68.37\n",
       "66   2016                               68.67\n",
       "67   2017                               68.97\n",
       "\n",
       "[68 rows x 2 columns]"
      ]
     },
     "execution_count": 9,
     "metadata": {},
     "output_type": "execute_result"
    }
   ],
   "source": [
    "ile['date']=pd.to_datetime(ile['date'])\n",
    "ile['date']=ile['date'].map(lambda x: x.year)\n",
    "ile.columns=['Years','Life Expectancy from Birth (Years)']\n",
    "ile"
   ]
  },
  {
   "cell_type": "markdown",
   "metadata": {},
   "source": [
    "### TASK 2: EXPLORATORY DATA ANALYSIS"
   ]
  },
  {
   "cell_type": "markdown",
   "metadata": {},
   "source": [
    "Create simple plot to check out the data."
   ]
  },
  {
   "cell_type": "code",
   "execution_count": 94,
   "metadata": {
    "scrolled": true
   },
   "outputs": [
    {
     "data": {
      "text/plain": [
       "Text(0, 0.5, 'Life Expectancy from Birth(in years)')"
      ]
     },
     "execution_count": 94,
     "metadata": {},
     "output_type": "execute_result"
    },
    {
     "data": {
      "image/png": "[encoded data removed]",
      "text/plain": [
       "<Figure size 720x216 with 1 Axes>"
      ]
     },
     "metadata": {},
     "output_type": "display_data"
    }
   ],
   "source": [
    "sns.set_style('darkgrid')\n",
    "fig=plt.figure(figsize=(10,3))\n",
    "axes=fig.add_axes([1,1,1,1])\n",
    "axes.plot(ile['Years'],ile['Life Expectancy from Birth (Years)'],color='green',lw=2,alpha=0.8)\n",
    "axes.set_title(\"India Life Expectancy\")\n",
    "axes.set_xlabel(\"Year\")\n",
    "axes.set_ylabel(\"Life Expectancy from Birth(in years)\")"
   ]
  },
  {
   "cell_type": "markdown",
   "metadata": {},
   "source": [
    "#### Annual Growth Rate in Life Expectancy."
   ]
  },
  {
   "cell_type": "markdown",
   "metadata": {},
   "source": [
    "Create a new feature called Annual Growth Rate."
   ]
  },
  {
   "cell_type": "code",
   "execution_count": 17,
   "metadata": {},
   "outputs": [
    {
     "data": {
      "text/html": [
       "<div>\n",
       "<style scoped>\n",
       "    .dataframe tbody tr th:only-of-type {\n",
       "        vertical-align: middle;\n",
       "    }\n",
       "\n",
       "    .dataframe tbody tr th {\n",
       "        vertical-align: top;\n",
       "    }\n",
       "\n",
       "    .dataframe thead th {\n",
       "        text-align: right;\n",
       "    }\n",
       "</style>\n",
       "<table border=\"1\" class=\"dataframe\">\n",
       "  <thead>\n",
       "    <tr style=\"text-align: right;\">\n",
       "      <th></th>\n",
       "      <th>Years</th>\n",
       "      <th>Life Expectancy from Birth (Years)</th>\n",
       "      <th>Annual Growth Rate</th>\n",
       "    </tr>\n",
       "  </thead>\n",
       "  <tbody>\n",
       "    <tr>\n",
       "      <th>0</th>\n",
       "      <td>1950</td>\n",
       "      <td>35.21</td>\n",
       "      <td>0.000000</td>\n",
       "    </tr>\n",
       "    <tr>\n",
       "      <th>1</th>\n",
       "      <td>1951</td>\n",
       "      <td>35.80</td>\n",
       "      <td>1.675660</td>\n",
       "    </tr>\n",
       "    <tr>\n",
       "      <th>2</th>\n",
       "      <td>1952</td>\n",
       "      <td>36.39</td>\n",
       "      <td>1.648045</td>\n",
       "    </tr>\n",
       "    <tr>\n",
       "      <th>3</th>\n",
       "      <td>1953</td>\n",
       "      <td>36.98</td>\n",
       "      <td>1.621325</td>\n",
       "    </tr>\n",
       "    <tr>\n",
       "      <th>4</th>\n",
       "      <td>1954</td>\n",
       "      <td>37.57</td>\n",
       "      <td>1.595457</td>\n",
       "    </tr>\n",
       "    <tr>\n",
       "      <th>...</th>\n",
       "      <td>...</td>\n",
       "      <td>...</td>\n",
       "      <td>...</td>\n",
       "    </tr>\n",
       "    <tr>\n",
       "      <th>63</th>\n",
       "      <td>2013</td>\n",
       "      <td>67.77</td>\n",
       "      <td>0.665459</td>\n",
       "    </tr>\n",
       "    <tr>\n",
       "      <th>64</th>\n",
       "      <td>2014</td>\n",
       "      <td>68.07</td>\n",
       "      <td>0.442674</td>\n",
       "    </tr>\n",
       "    <tr>\n",
       "      <th>65</th>\n",
       "      <td>2015</td>\n",
       "      <td>68.37</td>\n",
       "      <td>0.440723</td>\n",
       "    </tr>\n",
       "    <tr>\n",
       "      <th>66</th>\n",
       "      <td>2016</td>\n",
       "      <td>68.67</td>\n",
       "      <td>0.438789</td>\n",
       "    </tr>\n",
       "    <tr>\n",
       "      <th>67</th>\n",
       "      <td>2017</td>\n",
       "      <td>68.97</td>\n",
       "      <td>0.436872</td>\n",
       "    </tr>\n",
       "  </tbody>\n",
       "</table>\n",
       "<p>68 rows × 3 columns</p>\n",
       "</div>"
      ],
      "text/plain": [
       "    Years  Life Expectancy from Birth (Years)  Annual Growth Rate\n",
       "0    1950                               35.21            0.000000\n",
       "1    1951                               35.80            1.675660\n",
       "2    1952                               36.39            1.648045\n",
       "3    1953                               36.98            1.621325\n",
       "4    1954                               37.57            1.595457\n",
       "..    ...                                 ...                 ...\n",
       "63   2013                               67.77            0.665459\n",
       "64   2014                               68.07            0.442674\n",
       "65   2015                               68.37            0.440723\n",
       "66   2016                               68.67            0.438789\n",
       "67   2017                               68.97            0.436872\n",
       "\n",
       "[68 rows x 3 columns]"
      ]
     },
     "execution_count": 17,
     "metadata": {},
     "output_type": "execute_result"
    }
   ],
   "source": [
    "length=len(ile['Years'])\n",
    "for i in range(0,length-1):\n",
    "    ile['Annual Growth Rate'][i+1]=100*(ile['Life Expectancy from Birth (Years)'][i+1]-ile['Life Expectancy from Birth (Years)'][i])/ile['Life Expectancy from Birth (Years)'][i]\n",
    "ile['Annual Growth Rate'][0]=0\n",
    "ile"
   ]
  },
  {
   "cell_type": "markdown",
   "metadata": {},
   "source": [
    "#### Average Annual Growth Rate."
   ]
  },
  {
   "cell_type": "code",
   "execution_count": 18,
   "metadata": {},
   "outputs": [
    {
     "data": {
      "text/plain": [
       "0.9944367399492571"
      ]
     },
     "execution_count": 18,
     "metadata": {},
     "output_type": "execute_result"
    }
   ],
   "source": [
    "ile['Annual Growth Rate'].mean()"
   ]
  },
  {
   "cell_type": "markdown",
   "metadata": {},
   "source": [
    "Create a plot to find how annual growth rate changes with time."
   ]
  },
  {
   "cell_type": "code",
   "execution_count": 19,
   "metadata": {},
   "outputs": [
    {
     "data": {
      "text/plain": [
       "Text(0, 0.5, 'Annual Growth Rate(%)')"
      ]
     },
     "execution_count": 19,
     "metadata": {},
     "output_type": "execute_result"
    },
    {
     "data": {
      "image/png": "[encoded data removed]",
      "text/plain": [
       "<Figure size 720x216 with 1 Axes>"
      ]
     },
     "metadata": {},
     "output_type": "display_data"
    }
   ],
   "source": [
    "sns.set_style('darkgrid')\n",
    "fig=plt.figure(figsize=(10,3))\n",
    "axes=fig.add_axes([1,1,1,1])\n",
    "axes.plot(ile['Years'][1:],ile['Annual Growth Rate'][1:],color='red',lw=2,alpha=0.6)\n",
    "axes.set_title(\"India Life Expectancy Growth Rate\")\n",
    "axes.set_xlabel(\"Year\")\n",
    "axes.set_ylabel(\"Annual Growth Rate(%)\")"
   ]
  },
  {
   "cell_type": "markdown",
   "metadata": {},
   "source": [
    "### TASK 3: CREATING AND TRAINING A LINEAR REGRESSION MODEL"
   ]
  },
  {
   "cell_type": "markdown",
   "metadata": {},
   "source": [
    "#### SUBTASK 3.1: Prediction of India Life Expectancy in future on the basis of historical data."
   ]
  },
  {
   "cell_type": "code",
   "execution_count": 72,
   "metadata": {},
   "outputs": [
    {
     "data": {
      "text/plain": [
       "(array([[1950],\n",
       "        [1951],\n",
       "        [1952],\n",
       "        [1953],\n",
       "        [1954],\n",
       "        [1955],\n",
       "        [1956],\n",
       "        [1957],\n",
       "        [1958],\n",
       "        [1959],\n",
       "        [1960],\n",
       "        [1961],\n",
       "        [1962],\n",
       "        [1963],\n",
       "        [1964],\n",
       "        [1965],\n",
       "        [1966],\n",
       "        [1967],\n",
       "        [1968],\n",
       "        [1969],\n",
       "        [1970],\n",
       "        [1971],\n",
       "        [1972],\n",
       "        [1973],\n",
       "        [1974],\n",
       "        [1975],\n",
       "        [1976],\n",
       "        [1977],\n",
       "        [1978],\n",
       "        [1979],\n",
       "        [1980],\n",
       "        [1981],\n",
       "        [1982],\n",
       "        [1983],\n",
       "        [1984],\n",
       "        [1985],\n",
       "        [1986],\n",
       "        [1987],\n",
       "        [1988],\n",
       "        [1989],\n",
       "        [1990],\n",
       "        [1991],\n",
       "        [1992],\n",
       "        [1993],\n",
       "        [1994],\n",
       "        [1995],\n",
       "        [1996],\n",
       "        [1997],\n",
       "        [1998],\n",
       "        [1999],\n",
       "        [2000],\n",
       "        [2001],\n",
       "        [2002],\n",
       "        [2003],\n",
       "        [2004],\n",
       "        [2005],\n",
       "        [2006],\n",
       "        [2007],\n",
       "        [2008],\n",
       "        [2009],\n",
       "        [2010],\n",
       "        [2011],\n",
       "        [2012],\n",
       "        [2013],\n",
       "        [2014],\n",
       "        [2015],\n",
       "        [2016],\n",
       "        [2017]], dtype=int64),\n",
       " array([35.21 , 35.8  , 36.39 , 36.98 , 37.57 , 38.16 , 38.75 , 39.34 ,\n",
       "        39.93 , 40.532, 41.134, 41.736, 42.338, 42.94 , 43.572, 44.204,\n",
       "        44.836, 45.468, 46.1  , 46.754, 47.408, 48.062, 48.716, 49.37 ,\n",
       "        49.998, 50.626, 51.254, 51.882, 52.51 , 52.99 , 53.47 , 53.95 ,\n",
       "        54.43 , 54.91 , 55.266, 55.622, 55.978, 56.334, 56.69 , 57.176,\n",
       "        57.662, 58.148, 58.634, 59.12 , 59.59 , 60.06 , 60.53 , 61.   ,\n",
       "        61.47 , 61.876, 62.282, 62.688, 63.094, 63.5  , 63.906, 64.312,\n",
       "        64.718, 65.124, 65.53 , 65.978, 66.426, 66.874, 67.322, 67.77 ,\n",
       "        68.07 , 68.37 , 68.67 , 68.97 ]))"
      ]
     },
     "execution_count": 72,
     "metadata": {},
     "output_type": "execute_result"
    }
   ],
   "source": [
    "X=ile['Years'].values.reshape(-1,1)\n",
    "y1=ile['Life Expectancy from Birth (Years)'].values\n",
    "X,y1"
   ]
  },
  {
   "cell_type": "markdown",
   "metadata": {},
   "source": [
    "####  SUBTASK 3.2: SPLIT DATA INTO TRAINING AND TESTING DATA"
   ]
  },
  {
   "cell_type": "code",
   "execution_count": 73,
   "metadata": {},
   "outputs": [],
   "source": [
    "#USING SCIKIT-LEARN LIBRARY WE ARE GOING SPLIT TO THE DATA INTO TRAINING AND TESTING DATA\n",
    "from sklearn.model_selection import train_test_split\n",
    "X_train,X_test,y_train,y_test=train_test_split(X,y1,test_size=0.33)"
   ]
  },
  {
   "cell_type": "markdown",
   "metadata": {},
   "source": [
    "#### SUBTASK 3.3: CREATE A LINEAR REGRESSION MODEL"
   ]
  },
  {
   "cell_type": "code",
   "execution_count": 74,
   "metadata": {},
   "outputs": [],
   "source": [
    "#USING SCIKIT-LEARN LIBRARY WE ARE GOING TO CREATE A LINEAR REGRESSION MODEL AND NAME IT lmr.\n",
    "from sklearn.linear_model import LinearRegression\n",
    "lmr=LinearRegression()"
   ]
  },
  {
   "cell_type": "markdown",
   "metadata": {},
   "source": [
    "#### SUBTASK 3.4: TRAIN THE MODEL"
   ]
  },
  {
   "cell_type": "code",
   "execution_count": 75,
   "metadata": {},
   "outputs": [
    {
     "data": {
      "text/plain": [
       "LinearRegression()"
      ]
     },
     "execution_count": 75,
     "metadata": {},
     "output_type": "execute_result"
    }
   ],
   "source": [
    "lmr.fit(X_train,y_train)"
   ]
  },
  {
   "cell_type": "markdown",
   "metadata": {},
   "source": [
    "#### SUBTASK 3.5: MODEL EVALUATION"
   ]
  },
  {
   "cell_type": "code",
   "execution_count": 76,
   "metadata": {},
   "outputs": [
    {
     "data": {
      "text/plain": [
       "-950.3147985327548"
      ]
     },
     "execution_count": 76,
     "metadata": {},
     "output_type": "execute_result"
    }
   ],
   "source": [
    "#intercept\n",
    "lmr.intercept_"
   ]
  },
  {
   "cell_type": "code",
   "execution_count": 77,
   "metadata": {},
   "outputs": [
    {
     "data": {
      "text/plain": [
       "0.5061580631625544"
      ]
     },
     "execution_count": 77,
     "metadata": {},
     "output_type": "execute_result"
    }
   ],
   "source": [
    "#coefficent\n",
    "lmr.coef_[0]"
   ]
  },
  {
   "cell_type": "markdown",
   "metadata": {},
   "source": [
    "#### SUBTASK 3.1.5: PREDICTION FROM MODEL"
   ]
  },
  {
   "cell_type": "code",
   "execution_count": 78,
   "metadata": {},
   "outputs": [
    {
     "data": {
      "text/plain": [
       "array([66.55675036, 52.89048266, 65.03827617, 41.75500527, 40.23653108,\n",
       "       48.84121815, 39.22421495, 38.71805689, 54.40895684, 47.82890202,\n",
       "       48.33506009, 49.34737621, 43.77963752, 46.8165859 , 65.54443423,\n",
       "       59.97669554, 64.02596005, 63.01364392, 53.90279878, 62.50748586,\n",
       "       51.87816653, 56.4335891 , 54.91511491])"
      ]
     },
     "execution_count": 78,
     "metadata": {},
     "output_type": "execute_result"
    }
   ],
   "source": [
    "Ypred=lmr.predict(X_test)\n",
    "Ypred"
   ]
  },
  {
   "cell_type": "code",
   "execution_count": 95,
   "metadata": {},
   "outputs": [
    {
     "data": {
      "text/plain": [
       "Text(0, 0.5, 'Life Expectancy from Birth(in years)')"
      ]
     },
     "execution_count": 95,
     "metadata": {},
     "output_type": "execute_result"
    },
    {
     "data": {
      "image/png": "[encoded data removed]",
      "text/plain": [
       "<Figure size 576x360 with 1 Axes>"
      ]
     },
     "metadata": {},
     "output_type": "display_data"
    }
   ],
   "source": [
    "sns.set_style('darkgrid')\n",
    "fig=plt.figure(figsize=(8,5))\n",
    "axes=fig.add_axes([1,1,1,1])\n",
    "axes.plot(X_test,Ypred,label=\"Prediction Line\")\n",
    "plt.scatter(X_test,y_test,alpha=0.4,label=\"Actual Values\",c=\"blue\")\n",
    "plt.legend(loc=0)\n",
    "axes.set_title(\"India Life Expectancy(Prediction)\")\n",
    "axes.set_xlabel(\"Year\")\n",
    "axes.set_ylabel(\"Life Expectancy from Birth(in years)\")"
   ]
  },
  {
   "cell_type": "code",
   "execution_count": 96,
   "metadata": {},
   "outputs": [
    {
     "data": {
      "text/plain": [
       "Text(0, 0.5, 'Predicted Values')"
      ]
     },
     "execution_count": 96,
     "metadata": {},
     "output_type": "execute_result"
    },
    {
     "data": {
      "image/png": "[encoded data removed]",
      "text/plain": [
       "<Figure size 576x360 with 1 Axes>"
      ]
     },
     "metadata": {},
     "output_type": "display_data"
    }
   ],
   "source": [
    "sns.set_style('darkgrid')\n",
    "fig=plt.figure(figsize=(8,5))\n",
    "axes=fig.add_axes([1,1,1,1])\n",
    "plt.scatter(y_test,Ypred,c=\"orange\",alpha=1)\n",
    "axes.set_title(\"Comparing Actual and Predicted Values\")\n",
    "axes.set_xlabel(\"Actual Values\")\n",
    "axes.set_ylabel(\"Predicted Values\")"
   ]
  },
  {
   "cell_type": "markdown",
   "metadata": {},
   "source": [
    "#### Residual Histogram"
   ]
  },
  {
   "cell_type": "code",
   "execution_count": 97,
   "metadata": {},
   "outputs": [
    {
     "data": {
      "text/plain": [
       "Text(0.5, 1.0, 'Residual Histogram')"
      ]
     },
     "execution_count": 97,
     "metadata": {},
     "output_type": "execute_result"
    },
    {
     "data": {
      "image/png": "[encoded data removed]",
      "text/plain": [
       "<Figure size 360x360 with 1 Axes>"
      ]
     },
     "metadata": {},
     "output_type": "display_data"
    }
   ],
   "source": [
    "sns.displot((y_test-Ypred),bins=20,color=\"purple\",alpha=0.4)\n",
    "plt.xlabel(\"Residuals\")\n",
    "plt.title(\"Residual Histogram\")"
   ]
  },
  {
   "cell_type": "markdown",
   "metadata": {},
   "source": [
    "#### ACCURACY AND ERRORS"
   ]
  },
  {
   "cell_type": "code",
   "execution_count": 88,
   "metadata": {},
   "outputs": [
    {
     "name": "stdout",
     "output_type": "stream",
     "text": [
      "Mean absolute error = 0.81\n",
      "Mean squared error = 0.86\n",
      "Root mean absolute error = 0.93\n"
     ]
    }
   ],
   "source": [
    "import sklearn.metrics as sm\n",
    "print(\"Mean absolute error =\",round(sm.mean_absolute_error(y_test, Ypred), 2)) \n",
    "print(\"Mean squared error =\",round(sm.mean_squared_error(y_test,Ypred), 2)) \n",
    "print(\"Root mean absolute error =\",round((np.sqrt(sm.mean_squared_error(y_test,Ypred))),2))"
   ]
  },
  {
   "cell_type": "code",
   "execution_count": 89,
   "metadata": {},
   "outputs": [
    {
     "name": "stdout",
     "output_type": "stream",
     "text": [
      "ACCURACY: 98.91 %\n"
     ]
    }
   ],
   "source": [
    "print(\"ACCURACY:\", round((sm.r2_score(y_test,Ypred)*100),2),\"%\")"
   ]
  },
  {
   "cell_type": "markdown",
   "metadata": {},
   "source": [
    "#### PREDICTION OF LIFE EXPECTANCY IN INDIA IN 2022."
   ]
  },
  {
   "cell_type": "code",
   "execution_count": 90,
   "metadata": {},
   "outputs": [
    {
     "name": "stdout",
     "output_type": "stream",
     "text": [
      "PREDICTED LIFE a IN INDIA IN 2022 is 73.14.\n"
     ]
    }
   ],
   "source": [
    "print(\"PREDICTED LIFE a IN INDIA IN 2022 is {}.\".format(round((lmr.predict([[2022]])[0]),2)))"
   ]
  },
  {
   "cell_type": "code",
   "execution_count": null,
   "metadata": {},
   "outputs": [],
   "source": []
  },
  {
   "cell_type": "code",
   "execution_count": null,
   "metadata": {},
   "outputs": [],
   "source": []
  }
 ],
 "metadata": {
  "kernelspec": {
   "display_name": "Python 3",
   "language": "python",
   "name": "python3"
  },
  "language_info": {
   "codemirror_mode": {
    "name": "ipython",
    "version": 3
   },
   "file_extension": ".py",
   "mimetype": "text/x-python",
   "name": "python",
   "nbconvert_exporter": "python",
   "pygments_lexer": "ipython3",
   "version": "3.8.5"
  }
 },
 "nbformat": 4,
 "nbformat_minor": 4
}
